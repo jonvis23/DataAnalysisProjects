{
 "cells": [
  {
   "cell_type": "markdown",
   "metadata": {},
   "source": [
    "# Cars Dataset"
   ]
  },
  {
   "cell_type": "markdown",
   "metadata": {},
   "source": [
    "\n",
    "Q. 1) Instruction ( For Data Cleaning ) - Find all Null Values in the dataset. If there is any null value in any column, then fill it with the mean of that column.\n",
    "\n",
    "Q. 2) Question ( Based on Value Counts )- Check what are the different types of Make are there in our dataset. And, what is the count (occurrence) of each Make in the data ?\n",
    "\n",
    "Q. 3) Instruction ( Filtering ) - Show all the records where Origin is Asia or Europe.\n",
    "\n",
    "Q. 4) Instruction ( Removing unwanted records ) - Remove all the records (rows) where Weight is above 4000.\n",
    "\n",
    "Q. 5) Instruction ( Applying function on a column ) - Increase all the values of 'MPG_City' column by 3."
   ]
  },
  {
   "cell_type": "markdown",
   "metadata": {},
   "source": []
  }
 ],
 "metadata": {
  "kernelspec": {
   "display_name": "Python 3.9.12 ('base')",
   "language": "python",
   "name": "python3"
  },
  "language_info": {
   "codemirror_mode": {
    "name": "ipython",
    "version": 3
   },
   "file_extension": ".py",
   "mimetype": "text/x-python",
   "name": "python",
   "nbconvert_exporter": "python",
   "pygments_lexer": "ipython3",
   "version": "3.9.12"
  },
  "orig_nbformat": 4,
  "vscode": {
   "interpreter": {
    "hash": "31b4ee29e45cf71f5a158e34067ec8a7a60d9daad9cdb86ca6713becaa589907"
   }
  }
 },
 "nbformat": 4,
 "nbformat_minor": 2
}
