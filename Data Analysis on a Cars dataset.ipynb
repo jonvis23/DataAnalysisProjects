{
 "cells": [
  {
   "cell_type": "code",
   "execution_count": null,
   "metadata": {},
   "outputs": [],
   "source": []
  }
 ],
 "metadata": {
  "kernelspec": {
   "display_name": "Python 3.10.7 64-bit",
   "language": "python",
   "name": "python3"
  },
  "language_info": {
   "name": "python",
   "version": "3.10.7"
  },
  "orig_nbformat": 4,
  "vscode": {
   "interpreter": {
    "hash": "ec472dc260947919259a244485295475f215e495ad177c1fef7dadbba1178947"
   }
  }
 },
 "nbformat": 4,
 "nbformat_minor": 2
}
